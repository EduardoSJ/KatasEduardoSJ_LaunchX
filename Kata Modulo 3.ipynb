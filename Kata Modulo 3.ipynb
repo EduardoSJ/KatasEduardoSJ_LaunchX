{
 "cells": [
  {
   "cell_type": "code",
   "execution_count": null,
   "metadata": {},
   "outputs": [],
   "source": []
  },
  {
   "cell_type": "markdown",
   "metadata": {},
   "source": [
    "# Ejercicio - Escribir declaraciones if, else, y elif"
   ]
  },
  {
   "cell_type": "markdown",
   "metadata": {},
   "source": [
    "Para este ejercicio, escribirás una lógica condicional que imprima una advertencia si un asteroide se acerca a la Tierra demasiado rápido. La velocidad del asteroide varía dependiendo de lo cerca que esté del sol, y cualquier velocidad superior a 25 kilómetros por segundo (km/s) merece una advertencia.\n",
    "\n",
    "Un asteroide se acerca, y viaja a una velocidad de 49 km/s."
   ]
  },
  {
   "cell_type": "code",
   "execution_count": 2,
   "metadata": {},
   "outputs": [
    {
     "name": "stdout",
     "output_type": "stream",
     "text": [
      "Un asteroide se acerca a una velocidad peligrosa\n"
     ]
    }
   ],
   "source": [
    "# Añadir el código necesario para crear una variable que guarde la velocidad del asteroide.\n",
    "# Escribe una expresión de prueba para calcular si necesita una advertencia.\n",
    "# Agregue las instrucciones que se ejecutarán si la expresión de prueba es true o false.\n",
    "\n",
    "velAsteroide = 49\n",
    "if velAsteroide > 25:\n",
    "    print(\"Alerta! Alerta! Un asteroide se acerca a una velocidad peligrosa\")\n",
    "else:\n",
    "    print(\"No hay peligro\")    "
   ]
  },
  {
   "cell_type": "markdown",
   "metadata": {},
   "source": [
    "\n",
    "\n",
    "Si un asteroide entra en la atmósfera de la Tierra a una velocidad mayor o igual a 20 km/s, a veces produce un rayo de luz que se puede ver desde la Tierra. Escribe la lógica condicional que usa declaraciones if, else, y elif para alertar a las personas de todo el mundo que deben buscar un asteroide en el cielo. ¡Hay uno que se dirige a la tierra ahora a una velocidad de 19 km/s!"
   ]
  },
  {
   "cell_type": "code",
   "execution_count": 3,
   "metadata": {},
   "outputs": [
    {
     "name": "stdout",
     "output_type": "stream",
     "text": [
      "No se acerca nada que se pueda ver\n"
     ]
    }
   ],
   "source": [
    "# Agrega el código para crear una variable para un asteroide que viaja a 19 km/s\n",
    "# Escribe varias expresiones de prueba para determinar si puedes ver el rayo de luz desde la tierra\n",
    "# Agrega las instrucciones que se ejecutarán si las expresiones de prueba son True o False\n",
    "\n",
    "velocidadA = 19\n",
    "if velocidadA > 20:\n",
    "    print(\"Se acerca un asteroide, busquen en el cielo\")\n",
    "elif velocidadA == 20:\n",
    "    print(\"Se acerca un asteroide, busquen en el cielo\")\n",
    "else:\n",
    "    print(\"No se acerca nada que se pueda ver\")"
   ]
  },
  {
   "cell_type": "markdown",
   "metadata": {},
   "source": [
    "## Ejercicio: Uso de operadores and y or"
   ]
  },
  {
   "cell_type": "markdown",
   "metadata": {},
   "source": [
    "En este ejercicio, aprenderás información más matizada sobre cuándo los asteroides representan un peligro para la Tierra, y utilizarás esa información para mejorar nuestro sistema de advertencia. Aquí está la nueva información que necesitas saber:\n",
    "\n",
    "*Los asteroides de menos de 25 metros en su dimensión más grande probablemente se quemarán a medida que entren en la atmósfera de la Tierra.\n",
    "\n",
    "    Si una pieza de un asteroide que es más grande que 25 metros pero más pequeña que 1000 metros golpeara la Tierra, causaría mucho daño.\n",
    "\n",
    "También discutimos en el ejercicio anterior que:\n",
    "\n",
    "    La velocidad del asteroide varía en función de lo cerca que esté del sol, y cualquier velocidad superior a 25 kilómetros por segundo (km/s) merece una advertencia.\n",
    "    Si un asteroide entra en la atmósfera de la Tierra a una velocidad mayor o igual a 20 km/s, a veces produce un rayo de luz que se puede ver desde la Tierra.\n",
    "\n",
    "Usando toda esta información, escribe un programa que emita la advertencia o información correcta a la gente de la Tierra, según la velocidad y el tamaño de un asteroide. Utiliza instrucciones if, else, y elif, así como los operadores and y or."
   ]
  },
  {
   "cell_type": "code",
   "execution_count": 18,
   "metadata": {},
   "outputs": [
    {
     "name": "stdout",
     "output_type": "stream",
     "text": [
      "Mire hacia arriba, se acerca un asteroide y podría verlo\n",
      "Peligro! Peligro! El asteroide se acerca demasiado rápido a la tierra\n",
      "Por su tamaño el asteroide golpeará la tierra y causará mucho daño!!\n"
     ]
    }
   ],
   "source": [
    "# Agrega el código para crear nuevas variables para la velocidad y el tamaño del asteroide\n",
    "# Para probar el código, prueba con varias velocidades y tamaños\n",
    "# Escribe varias expresiones de prueba o combinaciones de expresiones de prueba para determinar qué mensaje se debe enviar a Tierra.\n",
    "\n",
    "#Prueba 1\n",
    "velocidadAsteroide = 30\n",
    "tamanoAsteroide = 30\n",
    "\n",
    "if tamanoAsteroide > 25 and tamanoAsteroide < 1000:\n",
    "    if velocidadAsteroide >=  20:\n",
    "        print(\"Mire hacia arriba, se acerca un asteroide y podría verlo\")\n",
    "        if velocidadAsteroide > 25:\n",
    "            print(\"Peligro! Peligro! El asteroide se acerca demasiado rápido a la tierra\" )\n",
    "        else:\n",
    "            print(\"El asteroide no viene muy rapido.\")\n",
    "    else:\n",
    "        print(\"Se acerca un asteroide pero por su velocidad no se podría ver\")\n",
    "    print(\"Por su tamaño el asteroide golpeará la tierra y causará mucho daño!!\")\n",
    "        \n",
    "elif tamanoAsteroide <= 25:\n",
    "    if velocidadAsteroide >=  20:\n",
    "        print(\"Mire hacia arriba, se acerca un asteroide y podría verlo\")\n",
    "        if velocidadAsteroide > 25:\n",
    "            print(\"Peligro! Peligro! El asteroide se acerca demasiado rápido a la tierra\" )\n",
    "        else:\n",
    "            print(\"El asteroide no viene muy rapido.\")\n",
    "    else:\n",
    "        print(\"Se acerca un asteroide pero por su velocidad no se podría ver\")\n",
    "    print(\"El asteroide es pequeño y se desintegrará en la atmosfera\")\n",
    "else:\n",
    "    print(\"Alerta! Alerta! Destrucción global inminente!! Pida perdón por su pecados.\")\n",
    "\n"
   ]
  },
  {
   "cell_type": "code",
   "execution_count": 22,
   "metadata": {},
   "outputs": [
    {
     "name": "stdout",
     "output_type": "stream",
     "text": [
      "Mire hacia arriba, se acerca un asteroide y podría verlo\n",
      "El asteroide no viene muy rapido.\n",
      "Por su tamaño el asteroide golpeará la tierra y causará mucho daño!!\n"
     ]
    }
   ],
   "source": [
    "#Prueba 2\n",
    "velocidadAsteroide = 22\n",
    "tamanoAsteroide = 30\n",
    "\n",
    "if tamanoAsteroide > 25 and tamanoAsteroide < 1000:\n",
    "    if velocidadAsteroide >=  20:\n",
    "        print(\"Mire hacia arriba, se acerca un asteroide y podría verlo\")\n",
    "        if velocidadAsteroide > 25:\n",
    "            print(\"Peligro! Peligro! El asteroide se acerca demasiado rápido a la tierra\" )\n",
    "        else:\n",
    "            print(\"El asteroide no viene muy rapido.\")\n",
    "    else:\n",
    "        print(\"Se acerca un asteroide pero por su velocidad no se podría ver\")\n",
    "    print(\"Por su tamaño el asteroide golpeará la tierra y causará mucho daño!!\")\n",
    "        \n",
    "elif tamanoAsteroide <= 25:\n",
    "    if velocidadAsteroide >=  20:\n",
    "        print(\"Mire hacia arriba, se acerca un asteroide y podría verlo\")\n",
    "        if velocidadAsteroide > 25:\n",
    "            print(\"Peligro! Peligro! El asteroide se acerca demasiado rápido a la tierra\" )\n",
    "        else:\n",
    "            print(\"El asteroide no viene muy rapido.\")\n",
    "    else:\n",
    "        print(\"Se acerca un asteroide pero por su velocidad no se podría ver\")\n",
    "    print(\"El asteroide es pequeño y se desintegrará en la atmosfera\")\n",
    "else:\n",
    "    print(\"Alerta! Alerta! Destrucción global inminente!! Pida perdón por su pecados.\")\n"
   ]
  },
  {
   "cell_type": "code",
   "execution_count": 24,
   "metadata": {},
   "outputs": [
    {
     "name": "stdout",
     "output_type": "stream",
     "text": [
      "Mire hacia arriba, se acerca un asteroide y podría verlo\n",
      "Peligro! Peligro! El asteroide se acerca demasiado rápido a la tierra\n",
      "El asteroide es pequeño y se desintegrará en la atmosfera\n"
     ]
    }
   ],
   "source": [
    "#Prueba 3\n",
    "velocidadAsteroide = 30\n",
    "tamanoAsteroide = 15\n",
    "\n",
    "if tamanoAsteroide > 25 and tamanoAsteroide < 1000:\n",
    "    if velocidadAsteroide >=  20:\n",
    "        print(\"Mire hacia arriba, se acerca un asteroide y podría verlo\")\n",
    "        if velocidadAsteroide > 25:\n",
    "            print(\"Peligro! Peligro! El asteroide se acerca demasiado rápido a la tierra\" )\n",
    "        else:\n",
    "            print(\"El asteroide no viene muy rapido.\")\n",
    "    else:\n",
    "        print(\"Se acerca un asteroide pero por su velocidad no se podría ver\")\n",
    "    print(\"Por su tamaño el asteroide golpeará la tierra y causará mucho daño!!\")\n",
    "        \n",
    "elif tamanoAsteroide <= 25:\n",
    "    if velocidadAsteroide >=  20:\n",
    "        print(\"Mire hacia arriba, se acerca un asteroide y podría verlo\")\n",
    "        if velocidadAsteroide > 25:\n",
    "            print(\"Peligro! Peligro! El asteroide se acerca demasiado rápido a la tierra\" )\n",
    "        else:\n",
    "            print(\"El asteroide no viene muy rapido.\")\n",
    "    else:\n",
    "        print(\"Se acerca un asteroide pero por su velocidad no se podría ver\")\n",
    "    print(\"El asteroide es pequeño y se desintegrará en la atmosfera\")\n",
    "else:\n",
    "    print(\"Alerta! Alerta! Destrucción global inminente!! Pida perdón por su pecados.\")\n"
   ]
  },
  {
   "cell_type": "code",
   "execution_count": 23,
   "metadata": {},
   "outputs": [
    {
     "name": "stdout",
     "output_type": "stream",
     "text": [
      "Se acerca un asteroide pero por su velocidad no se podría ver\n",
      "El asteroide es pequeño y se desintegrará en la atmosfera\n"
     ]
    }
   ],
   "source": [
    "#Prueba 4\n",
    "velocidadAsteroide = 15\n",
    "tamanoAsteroide = 15\n",
    "\n",
    "if tamanoAsteroide > 25 and tamanoAsteroide < 1000:\n",
    "    if velocidadAsteroide >=  20:\n",
    "        print(\"Mire hacia arriba, se acerca un asteroide y podría verlo\")\n",
    "        if velocidadAsteroide > 25:\n",
    "            print(\"Peligro! Peligro! El asteroide se acerca demasiado rápido a la tierra\" )\n",
    "        else:\n",
    "            print(\"El asteroide no viene muy rapido.\")\n",
    "    else:\n",
    "        print(\"Se acerca un asteroide pero por su velocidad no se podría ver\")\n",
    "    print(\"Por su tamaño el asteroide golpeará la tierra y causará mucho daño!!\")\n",
    "        \n",
    "elif tamanoAsteroide <= 25:\n",
    "    if velocidadAsteroide >=  20:\n",
    "        print(\"Mire hacia arriba, se acerca un asteroide y podría verlo\")\n",
    "        if velocidadAsteroide > 25:\n",
    "            print(\"Peligro! Peligro! El asteroide se acerca demasiado rápido a la tierra\" )\n",
    "        else:\n",
    "            print(\"El asteroide no viene muy rapido.\")\n",
    "    else:\n",
    "        print(\"Se acerca un asteroide pero por su velocidad no se podría ver\")\n",
    "    print(\"El asteroide es pequeño y se desintegrará en la atmosfera\")\n",
    "else:\n",
    "    print(\"Alerta! Alerta! Destrucción global inminente!! Pida perdón por su pecados.\")"
   ]
  },
  {
   "cell_type": "code",
   "execution_count": 25,
   "metadata": {},
   "outputs": [
    {
     "name": "stdout",
     "output_type": "stream",
     "text": [
      "Alerta! Alerta! Destrucción global inminente!! Pida perdón por su pecados.\n"
     ]
    }
   ],
   "source": [
    "#Prueba 5\n",
    "velocidadAsteroide = 15\n",
    "tamanoAsteroide = 1200\n",
    "\n",
    "if tamanoAsteroide > 25 and tamanoAsteroide < 1000:\n",
    "    if velocidadAsteroide >=  20:\n",
    "        print(\"Mire hacia arriba, se acerca un asteroide y podría verlo\")\n",
    "        if velocidadAsteroide > 25:\n",
    "            print(\"Peligro! Peligro! El asteroide se acerca demasiado rápido a la tierra\" )\n",
    "        else:\n",
    "            print(\"El asteroide no viene muy rapido.\")\n",
    "    else:\n",
    "        print(\"Se acerca un asteroide pero por su velocidad no se podría ver\")\n",
    "    print(\"Por su tamaño el asteroide golpeará la tierra y causará mucho daño!!\")\n",
    "        \n",
    "elif tamanoAsteroide <= 25:\n",
    "    if velocidadAsteroide >=  20:\n",
    "        print(\"Mire hacia arriba, se acerca un asteroide y podría verlo\")\n",
    "        if velocidadAsteroide > 25:\n",
    "            print(\"Peligro! Peligro! El asteroide se acerca demasiado rápido a la tierra\" )\n",
    "        else:\n",
    "            print(\"El asteroide no viene muy rapido.\")\n",
    "    else:\n",
    "        print(\"Se acerca un asteroide pero por su velocidad no se podría ver\")\n",
    "    print(\"El asteroide es pequeño y se desintegrará en la atmosfera\")\n",
    "else:\n",
    "    print(\"Alerta! Alerta! Destrucción global inminente!! Pida perdón por su pecados.\")"
   ]
  }
 ],
 "metadata": {
  "interpreter": {
   "hash": "63fd5069d213b44bf678585dea6b12cceca9941eaf7f819626cde1f2670de90d"
  },
  "kernelspec": {
   "display_name": "Python 3.9.2 64-bit",
   "language": "python",
   "name": "python3"
  },
  "language_info": {
   "codemirror_mode": {
    "name": "ipython",
    "version": 3
   },
   "file_extension": ".py",
   "mimetype": "text/x-python",
   "name": "python",
   "nbconvert_exporter": "python",
   "pygments_lexer": "ipython3",
   "version": "3.9.2"
  },
  "orig_nbformat": 4
 },
 "nbformat": 4,
 "nbformat_minor": 2
}

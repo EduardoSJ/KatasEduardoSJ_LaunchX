{
  "cells": [
    {
      "cell_type": "markdown",
      "metadata": {},
      "source": [
        "# Ejercicio: Uso de funciones en Python"
      ]
    },
    {
      "cell_type": "markdown",
      "metadata": {},
      "source": [
        "### Ejercicio 1: Trabajar con argumentos en funciones\n",
        "\n",
        "Los argumentos requeridos en las funciones se utilizan cuando las funciones necesitan que esos argumentos funcionen correctamente. En este ejercicio, construirás un informe de combustible que requiere información de varias ubicaciones de combustible en todo el cohete.\n",
        "\n"
      ]
    },
    {
      "cell_type": "markdown",
      "metadata": {},
      "source": [
        "> **TIP**\n",
        "> Dedica unos minutos para tratar de encontrar una solución. Luego desplázate hacia abajo hasta la parte inferior para ver si has logrado compilar el programa de acuerdo con las especificaciones\n",
        "\n",
        "Comienza por crear una función que necesite tres lecturas de combustible y devuelva un informe:"
      ]
    },
    {
      "cell_type": "code",
      "execution_count": 50,
      "metadata": {},
      "outputs": [],
      "source": [
        "# Función para leer 3 tanques de combustible y muestre el promedio\n",
        "\n",
        "def informeCombustible(tanque1, tanque2, tanque3):\n",
        "    promedio = (tanque1 + tanque2 + tanque3)/3\n",
        "\n",
        "    print(\"\"\"El combustible en los tanques:\n",
        "    Tanque número 1: \"\"\", tanque1,\n",
        "    \"\"\"\n",
        "    Tanque número 2: \"\"\" ,tanque2,\n",
        "    \"\"\" \n",
        "    Tanque número 3: \"\"\",tanque3,\n",
        "    \"\"\"\n",
        "    El promedio de combustible en los tanque es de: \"\"\", promedio\n",
        "    )\n",
        "    "
      ]
    },
    {
      "cell_type": "markdown",
      "metadata": {},
      "source": [
        "Ahora que hemos definido la función de informes, vamos a comprobarlo. Para esta misión, los tanques no están llenos:"
      ]
    },
    {
      "cell_type": "code",
      "execution_count": 61,
      "metadata": {},
      "outputs": [
        {
          "name": "stdout",
          "output_type": "stream",
          "text": [
            "El combustible en los tanques:\n",
            "    Tanque número 1:  12 \n",
            "    Tanque número 2:  23  \n",
            "    Tanque número 3:  10 \n",
            "    El promedio de combustible en los tanque es de:  15.0\n"
          ]
        }
      ],
      "source": [
        "\n",
        "# Llamamos a la función que genera el reporte print(funcion(tanque1, tanque2, tanque3))\n",
        "\n",
        "informeCombustible(12, 23, 10)"
      ]
    },
    {
      "cell_type": "markdown",
      "metadata": {},
      "source": [
        "En lugar de simplemente crear el informe, la función también está calculando el promedio. Mejora la legibilidad extrayendo el cálculo promedio de la función en una nueva función para que el promedio se pueda hacer de forma independiente:"
      ]
    },
    {
      "cell_type": "code",
      "execution_count": 53,
      "metadata": {},
      "outputs": [],
      "source": [
        "# Función promedio \n",
        "def promedioCombustible(tanque1,tanque2,tanque3):\n",
        "    return (tanque1 + tanque2 + tanque3)/3"
      ]
    },
    {
      "cell_type": "markdown",
      "metadata": {},
      "source": [
        "Ahora actualiza la función de informes para llamando a la nueva función del promedio:\n"
      ]
    },
    {
      "cell_type": "code",
      "execution_count": 59,
      "metadata": {},
      "outputs": [],
      "source": [
        "# Actualiza la función\n",
        "def informeCombustible2(tanque1, tanque2, tanque3):\n",
        "    promedio = promedioCombustible(tanque1,tanque2,tanque3)\n",
        "\n",
        "    print(\"\"\"El combustible en los tanques:\n",
        "    Tanque número 1: \"\"\", tanque1,\n",
        "    \"\"\"\n",
        "    Tanque número 2: \"\"\" ,tanque2,\n",
        "    \"\"\" \n",
        "    Tanque número 3: \"\"\",tanque3,\n",
        "    \"\"\"\n",
        "    El promedio de combustible en los tanque es de: \"\"\", promedio\n",
        "    )\n",
        "    "
      ]
    },
    {
      "cell_type": "code",
      "execution_count": 63,
      "metadata": {},
      "outputs": [
        {
          "name": "stdout",
          "output_type": "stream",
          "text": [
            "El combustible en los tanques:\n",
            "    Tanque número 1:  12 \n",
            "    Tanque número 2:  20  \n",
            "    Tanque número 3:  10 \n",
            "    El promedio de combustible en los tanque es de:  14.0\n"
          ]
        }
      ],
      "source": [
        "informeCombustible(12, 20, 10)"
      ]
    },
    {
      "cell_type": "markdown",
      "metadata": {},
      "source": [
        "## Ejercicio 2: Trabajo con argumentos de palabra clave"
      ]
    },
    {
      "cell_type": "markdown",
      "metadata": {},
      "source": [
        "### Ejercicio : Trabajar con argumentos de palabras clave en funciones\n",
        "En este ejercicio, construirás un informe de cohete que requiere varias piezas de información, como el tiempo hasta el destino, el combustible a la izquierda y el nombre del destino. Comienza por crear una función que creará un informe preciso de la misión:"
      ]
    },
    {
      "cell_type": "code",
      "execution_count": 64,
      "metadata": {},
      "outputs": [],
      "source": [
        "# Función con un informe preciso de la misión. Considera hora de prelanzamiento, tiempo de vuelo, destino, tanque externo y tanque interno\n",
        "def informePreciso(hora,tiempoVuelo,destino,tanqueExterno,tanqueInterno):\n",
        "    informe = f\"\"\"Informe de Mision\n",
        "    ----------------------------------\n",
        "    Hora de pre-lanzamiento: {hora}\n",
        "    Tiempo estimado de vuelo: {tiempoVuelo}\n",
        "    Destino de la misión: {destino} \n",
        "    Cantidad de combustible tanque externo: {tanqueExterno}\n",
        "    Cantidad de combustible tanque interno: {tanqueInterno}\"\"\"\n",
        "    print(informe)"
      ]
    },
    {
      "cell_type": "code",
      "execution_count": 65,
      "metadata": {},
      "outputs": [
        {
          "name": "stdout",
          "output_type": "stream",
          "text": [
            "Informe de Mision\n",
            "    ----------------------------------\n",
            "    Hora de pre-lanzamiento: 12:00\n",
            "    Tiempo estimado de vuelo: 2 hras\n",
            "    Destino de la misión: Marte \n",
            "    Cantidad de combustible tanque externo: 2000\n",
            "    Cantidad de combustible tanque interno: 3000\n"
          ]
        }
      ],
      "source": [
        "informePreciso('12:00', '2 hras','Marte',2000,3000)"
      ]
    },
    {
      "cell_type": "markdown",
      "metadata": {},
      "source": [
        "La función es problemática porque no se puede adaptar para minutos adicionales o tanques adicionales de combustible. Hazlo más flexible permitiendo cualquier número de pasos basados en el tiempo y cualquier número de tanques. En lugar de usar `*args` y `**kwargs`, aprovecha el hecho de que puedes usar cualquier nombre que desees. Asegurate que la función sea más legible mediante el uso de nombres de variables que están asociados con las entradas, como `*minutes` y `**fuel_reservoirs`:"
      ]
    },
    {
      "cell_type": "code",
      "execution_count": 76,
      "metadata": {},
      "outputs": [],
      "source": [
        "# Escribe tu nueva función de reporte considerando lo anterior\n",
        "def informeFlexible(destino,*tiempo,**tanques):\n",
        "\n",
        "    sumatiempo = 0\n",
        "    for item in tiempo:\n",
        "        sumatiempo += item\n",
        "    sumaCombustible = 0\n",
        "    for item in tanques.values():\n",
        "        sumaCombustible += item\n",
        "\n",
        "    informe = f\"\"\"Informe de Mision\n",
        "    ----------------------------------\n",
        "    Tiempo estimado total: {sumatiempo}\n",
        "    Destino de la misión: {destino} \n",
        "    Cantidad de combustible en tanques {sum(sumaCombustible)}\"\"\"\n",
        "    print(informe)\n"
      ]
    },
    {
      "cell_type": "code",
      "execution_count": 87,
      "metadata": {},
      "outputs": [
        {
          "name": "stdout",
          "output_type": "stream",
          "text": [
            "gayo\n",
            "item2\n"
          ]
        }
      ],
      "source": [
        "diccionario= {'gayo' : 23,'item2' : 22}\n",
        "\n",
        "for item in diccionario:\n",
        "        print(item)"
      ]
    },
    {
      "cell_type": "markdown",
      "metadata": {},
      "source": [
        "Debido a que el combustible que queda en los tanques es específico de cada tanque, actualiza la función para usar el nombre de cada tanque en el informe:"
      ]
    },
    {
      "cell_type": "code",
      "execution_count": 115,
      "metadata": {},
      "outputs": [],
      "source": [
        "# Escribe tu nueva función\n",
        "def informeFlexible(destino,*tiempo,**tanques):\n",
        "\n",
        "    sumatiempo = 0\n",
        "    for item in tiempo:\n",
        "        sumatiempo += item\n",
        "    sumaCombustible = 0\n",
        "    for item in tanques.values():\n",
        "        sumaCombustible += item\n",
        "\n",
        "    informe = f\"\"\"    Informe de Mision\n",
        "    ----------------------------------\n",
        "    Tiempo estimado total: {sumatiempo}\n",
        "    Destino de la misión: {destino} \n",
        "    Cantidad de combustible en tanques {sumaCombustible}\n",
        "    \"\"\"\n",
        "    for a,b in tanques.items():\n",
        "        informe += f\"\"\"Combustible en el tanque {a}: es de: {b}\\n    \"\"\"\n",
        "    \n",
        "\n",
        "    print(informe)"
      ]
    },
    {
      "cell_type": "code",
      "execution_count": 116,
      "metadata": {},
      "outputs": [
        {
          "name": "stdout",
          "output_type": "stream",
          "text": [
            "    Informe de Mision\n",
            "    ----------------------------------\n",
            "    Tiempo estimado total: 30\n",
            "    Destino de la misión: Venus \n",
            "    Cantidad de combustible en tanques 29300\n",
            "    Combustible en el tanque TanqueExterno: es de: 2300\n",
            "    Combustible en el tanque TanqueInterno: es de: 27000\n",
            "    \n"
          ]
        }
      ],
      "source": [
        "informeFlexible('Venus',10,10,10, TanqueExterno = 2300,TanqueInterno = 27000)"
      ]
    },
    {
      "cell_type": "markdown",
      "metadata": {},
      "source": [
        "## Soluciones"
      ]
    },
    {
      "cell_type": "markdown",
      "metadata": {},
      "source": [
        "## Ejercicio 1"
      ]
    },
    {
      "cell_type": "code",
      "execution_count": null,
      "metadata": {},
      "outputs": [],
      "source": [
        "# Función para leer 3 tanques de combustible y muestre el promedio\n",
        "\n",
        "def generate_report(main_tank, external_tank, hydrogen_tank):\n",
        "    total_average = (main_tank + external_tank + hydrogen_tank) / 3\n",
        "    return f\"\"\"Fuel Report:\n",
        "    Total Average: {total_average}%\n",
        "    Main tank: {main_tank}%\n",
        "    External tank: {external_tank}%\n",
        "    Hydrogen tank: {hydrogen_tank}% \n",
        "    \"\"\"\n"
      ]
    },
    {
      "cell_type": "code",
      "execution_count": null,
      "metadata": {},
      "outputs": [],
      "source": [
        "# Llamamos a la función que genera el reporte print(funcion(tanque1, tanque2, tanque3))\n",
        "print(generate_report(80, 70, 85))"
      ]
    },
    {
      "cell_type": "code",
      "execution_count": null,
      "metadata": {},
      "outputs": [],
      "source": [
        "# Función promedio \n",
        "def average(values):\n",
        "    total = sum(values)\n",
        "    number_of_items = len(values)\n",
        "    return total / number_of_items\n",
        "\n",
        "# Test the averaging function with a list of integers:\n",
        "average([80, 85, 81]) "
      ]
    },
    {
      "cell_type": "code",
      "execution_count": null,
      "metadata": {},
      "outputs": [],
      "source": [
        "# Actualiza la función\n",
        "def generate_report(main_tank, external_tank, hydrogen_tank):\n",
        "    return f\"\"\"Fuel Report:\n",
        "    Total Average: {average([main_tank, external_tank, hydrogen_tank])}%\n",
        "    Main tank: {main_tank}%\n",
        "    External tank: {external_tank}%\n",
        "    Hydrogen tank: {hydrogen_tank}% \n",
        "    \"\"\"\n",
        "\n",
        "# Call the updated function again with different values\n",
        "print(generate_report(88, 76, 70))"
      ]
    },
    {
      "cell_type": "markdown",
      "metadata": {},
      "source": [
        "### Ejercicio 2:"
      ]
    },
    {
      "cell_type": "code",
      "execution_count": null,
      "metadata": {},
      "outputs": [],
      "source": [
        "# Función con un informe preciso de la misión. Considera hora de prelanzamiento, tiempo de vuelo, destino, tanque externo y tanque interno\n",
        "\n",
        "def mission_report(pre_launch_time, flight_time, destination, external_tank, main_tank):\n",
        "    return f\"\"\"\n",
        "    Mission to {destination}\n",
        "    Total travel time: {pre_launch_time + flight_time} minutes\n",
        "    Total fuel left: {external_tank + main_tank} gallons\n",
        "    \"\"\"\n",
        "\n",
        "print(mission_report(14, 51, \"Moon\", 200000, 300000))"
      ]
    },
    {
      "cell_type": "code",
      "execution_count": null,
      "metadata": {},
      "outputs": [],
      "source": [
        "# Escribe tu nueva función de reporte considerando lo anterior\n",
        "\n",
        "def mission_report(destination, *minutes, **fuel_reservoirs):\n",
        "    return f\"\"\"\n",
        "    Mission to {destination}\n",
        "    Total travel time: {sum(minutes)} minutes\n",
        "    Total fuel left: {sum(fuel_reservoirs.values())}\n",
        "    \"\"\"\n",
        "\n",
        "print(mission_report(\"Moon\", 10, 15, 51, main=300000, external=200000))"
      ]
    },
    {
      "cell_type": "code",
      "execution_count": null,
      "metadata": {},
      "outputs": [],
      "source": [
        "# Escribe tu nueva función\n",
        "\n",
        "def mission_report(destination, *minutes, **fuel_reservoirs):\n",
        "    main_report = f\"\"\"\n",
        "    Mission to {destination}\n",
        "    Total travel time: {sum(minutes)} minutes\n",
        "    Total fuel left: {sum(fuel_reservoirs.values())}\n",
        "    \"\"\"\n",
        "    for tank_name, gallons in fuel_reservoirs.items():\n",
        "        main_report += f\"{tank_name} tank --> {gallons} gallons left\\n\"\n",
        "    return main_report\n",
        "\n",
        "print(mission_report(\"Moon\", 8, 11, 55, main=300000, external=200000))"
      ]
    },
    {
      "cell_type": "markdown",
      "metadata": {},
      "source": [
        "---\n",
        "\n",
        "Curso Propedútico de Python para Launch X - Innovacción Virtual.\n",
        "\n",
        "Material desarrollado con base en los contenidos de MSLearn y la metáfora de LaunchX, traducción e implementación por: Fernanda Ochoa - Learning Producer de LaunchX.\n",
        "\n",
        "Redes:\n",
        "* GitHub: [FernandaOchoa](https://github.com/FernandaOchoa)\n",
        "* Twitter: [@imonsh](https://twitter.com/imonsh)\n",
        "* Instagram: [fherz8a](https://www.instagram.com/fherz8a/)"
      ]
    }
  ],
  "metadata": {
    "interpreter": {
      "hash": "205095b8b86ea82a021a8fc2ffba2b3bc9f8d0be25999901963b225939f75778"
    },
    "kernelspec": {
      "display_name": "Python 3.8.10 64-bit ('tmp': conda)",
      "name": "python3"
    },
    "language_info": {
      "codemirror_mode": {
        "name": "ipython",
        "version": 3
      },
      "file_extension": ".py",
      "mimetype": "text/x-python",
      "name": "python",
      "nbconvert_exporter": "python",
      "pygments_lexer": "ipython3",
      "version": "3.9.2"
    },
    "nteract": {
      "version": "nteract-front-end@1.0.0"
    },
    "orig_nbformat": 4
  },
  "nbformat": 4,
  "nbformat_minor": 2
}
